{
 "cells": [
  {
   "cell_type": "markdown",
   "metadata": {},
   "source": [
    "# IBM Analytics - Final Project"
   ]
  },
  {
   "cell_type": "markdown",
   "metadata": {},
   "source": [
    "## Index"
   ]
  },
  {
   "cell_type": "markdown",
   "metadata": {},
   "source": [
    "#### Notebooks used to develop the project"
   ]
  },
  {
   "cell_type": "markdown",
   "metadata": {},
   "source": [
    "#### \n",
    "#### WorldBank.ipynb\n",
    "*    Extract country with similar population to Mexico\n",
    "#### MexicoJapanData.ipynb\n",
    "*    Extract and clean data for México and Japan\n",
    "#### MexicoVisualization ipynb\n",
    "*    Generate maps and graphs for México\n",
    "#### BeautifulSoap ipynb\n",
    "*    Wrap Wikipedia page for Tokyo Wards\n",
    "#### Japan Visualization ipynb\n",
    "*    Maps and graph for Japan and Tokyo\n",
    "#### FourSquareMEXJPN.ipynb\n",
    "*    Explore venus with Foursquare and créate clusters\n"
   ]
  },
  {
   "cell_type": "markdown",
   "metadata": {},
   "source": [
    "#### and the path is : https://github.com/ASanchez3793/Coursera_Capstone/Notebooks"
   ]
  },
  {
   "cell_type": "code",
   "execution_count": null,
   "metadata": {},
   "outputs": [],
   "source": []
  }
 ],
 "metadata": {
  "kernelspec": {
   "display_name": "Python",
   "language": "python",
   "name": "conda-env-python-py"
  },
  "language_info": {
   "codemirror_mode": {
    "name": "ipython",
    "version": 3
   },
   "file_extension": ".py",
   "mimetype": "text/x-python",
   "name": "python",
   "nbconvert_exporter": "python",
   "pygments_lexer": "ipython3",
   "version": "3.6.11"
  }
 },
 "nbformat": 4,
 "nbformat_minor": 4
}
