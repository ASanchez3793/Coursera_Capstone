{
 "cells": [
  {
   "cell_type": "markdown",
   "metadata": {},
   "source": [
    "# Tokyo Wards web scrapping "
   ]
  },
  {
   "cell_type": "code",
   "execution_count": null,
   "metadata": {},
   "outputs": [],
   "source": [
    "#importing libraries for scrapping web page\n",
    "!pip install beautifulsoup4\n",
    "!pip install lxml\n",
    "!from bs4 import BeautifulSoup"
   ]
  },
  {
   "cell_type": "code",
   "execution_count": 2,
   "metadata": {},
   "outputs": [],
   "source": [
    "# reading web paga\n",
    "from bs4 import BeautifulSoup\n",
    "import requests\n",
    "url=\"https://en.wikipedia.org/wiki/Special_wards_of_Tokyo#List_of_special_wards\"\n",
    "# Make a GET request to fetch the raw HTML content\n",
    "html_content = requests.get(url).text\n",
    "# Parse the html content\n",
    "soup = BeautifulSoup(html_content, \"lxml\")"
   ]
  },
  {
   "cell_type": "code",
   "execution_count": 18,
   "metadata": {},
   "outputs": [
    {
     "name": "stdout",
     "output_type": "stream",
     "text": [
      "No.\n",
      "\n",
      "Flag\n",
      "\n",
      "Name\n",
      "\n",
      "Kanji\n",
      "\n",
      "Population(as of October 2016[update])\n",
      "\n",
      "Density(/km2)\n",
      "\n",
      "Area(km2)\n",
      "\n",
      "Major districts\n",
      "\n",
      "['No.', 'Flag', 'Name', 'Kanji', 'Population(as of October\\xa02016[update])', 'Density(/km2)', 'Area(km2)', 'Major districts']\n"
     ]
    }
   ],
   "source": [
    "# scrapping page\n",
    "Japan_table = soup.find(\"table\", attrs={\"class\": \"wikitable sortable\"})\n",
    "Japan_table_data = Japan_table.tbody.find_all(\"tr\")  \n",
    "# Get all the headings of Lists\n",
    "Japan_headings = []\n",
    "for th in Japan_table_data[0].find_all(\"th\"):\n",
    "    # remove any newlines and extra spaces from left and right\n",
    "    Japan_headings.append(th.text.replace('\\n', ' ').strip())\n",
    "    print(th.text) \n",
    "print (Japan_headings)    "
   ]
  },
  {
   "cell_type": "code",
   "execution_count": 19,
   "metadata": {},
   "outputs": [
    {
     "name": "stdout",
     "output_type": "stream",
     "text": [
      "Data final [['No.', 'Flag', 'Name', 'Kanji', 'Population(as of October\\xa02016[update])', 'Density(/km2)', 'Area(km2)', 'Major districts'], ['01', '', 'Chiyoda', '千代田区', '0059,441', '05,100', '011.66', 'Nagatachō, Kasumigaseki, Ōtemachi, Marunouchi, Akihabara, Yūrakuchō, Iidabashi, Kanda'], ['02', '', 'Chūō', '中央区', '0147,620', '14,460', '010.21', 'Nihonbashi, Kayabachō, Ginza, Tsukiji, Hatchōbori, Shinkawa, Tsukishima, Kachidoki, Tsukuda'], ['03', '', 'Minato', '港区', '0248,071', '12,180', '020.37', 'Odaiba, Shinbashi, Hamamatsuchō, Mita, Roppongi, Toranomon, Aoyama, Azabu'], ['04', '', 'Shinjuku', '新宿区', '0339,211', '18,620', '018.22', 'Shinjuku, Takadanobaba, Ōkubo, Kagurazaka, Ichigaya, Yotsuya, Sendagaya, Yoyogi'], ['05', '', 'Bunkyō', '文京区', '0223,389', '19,790', '011.29', 'Hongō, Yayoi, Hakusan'], ['06', '', 'Taitō', '台東区', '0200,486', '19,830', '010.11', 'Ueno, Asakusa'], ['07', '', 'Sumida', '墨田区', '0260,358', '18,910', '013.77', 'Kinshichō, Morishita, Ryōgoku'], ['08', '', 'Kōtō', '江東区', '0502,579', '12,510', '040.16', 'Kiba, Ariake, Kameido, Tōyōchō, Monzennakachō, Fukagawa, Kiyosumi, Shirakawa, Etchūjima, Sunamachi, Aomi'], ['09', '', 'Shinagawa', '品川区', '0392,492', '17,180', '022.84', 'Shinagawa, Gotanda, Ōsaki, Hatanodai, Ōimachi, Tennōzu'], ['10', '', 'Meguro', '目黒区', '0280,283', '19,110', '014.67', 'Meguro, Nakameguro, Jiyugaoka, Komaba, Aobadai'], ['11', '', 'OtaŌta', '大田区', '0722,608', '11,910', '060.66', 'Ōmori, Kamata, Haneda, Den-en-chōfu'], ['12', '', 'Setagaya', '世田谷区', '0910,868', '15,690', '058.05', 'Shimokitazawa, Kinuta, Karasuyama, Tamagawa'], ['13', '', 'Shibuya', '渋谷区', '0227,850', '15,080', '015.11', 'Shibuya, Ebisu, Harajuku, Daikanyama, Hiroo'], ['14', '', 'Nakano', '中野区', '0332,902', '21,350', '015.59', 'Nakano'], ['15', '', 'Suginami', '杉並区', '0570,483', '16,750', '034.06', 'Kōenji, Asagaya, Ogikubo'], ['16', '', 'Toshima', '豊島区', '0294,673', '22,650', '013.01', 'Ikebukuro, Komagome, Senkawa, Sugamo'], ['17', '', 'Kita', '北区', '0345,063', '16,740', '020.61', 'Akabane, Ōji, Tabata'], ['18', '', 'Arakawa', '荒川区', '0213,648', '21,030', '010.16', 'Arakawa, Machiya, Nippori, Minamisenju'], ['19', '', 'Itabashi', '板橋区', '0569,225', '17,670', '032.22', 'Itabashi, Takashimadaira'], ['20', '', 'Nerima', '練馬区', '0726,748', '15,120', '048.08', 'Nerima, Ōizumi, Hikarigaoka'], ['21', '', 'Adachi', '足立区', '0674,067', '12,660', '053.25', 'Ayase, Kitasenju, Takenotsuka'], ['22', '', 'Katsushika', '葛飾区', '0447,140', '12,850', '034.80', 'Tateishi, Aoto, Kameari, Shibamata'], ['23', '', 'Edogawa', '江戸川区', '0685,899', '13,750', '049.90', 'Kasai, Koiwa']]\n"
     ]
    }
   ],
   "source": [
    "# Load data in Japan_data\n",
    "i=1\n",
    "Japan_data=[]\n",
    "Japan_data.append(Japan_headings)\n",
    "while i <= len(Japan_table_data) - 2:\n",
    "    Japan_lista = []\n",
    "    for td in Japan_table_data[i].find_all(\"td\"):\n",
    "        Japan_lista.append(td.text.replace('\\n', ' ').strip())\n",
    "    Japan_data.append(Japan_lista)\n",
    "    i +=1\n",
    "print('Data final', Japan_data)\n"
   ]
  },
  {
   "cell_type": "code",
   "execution_count": 33,
   "metadata": {},
   "outputs": [],
   "source": [
    "# Create CSV file with Japan_data\n",
    "import csv \n",
    "#data to be written row-wise in csv fil \n",
    "data = Japan_data\n",
    "# opening the csv file in 'w+' mode \n",
    "file = open('Japan_WardTokyo.csv', 'w+', newline ='') \n",
    "  \n",
    "# writing the data into the file \n",
    "with file:     \n",
    "    write = csv.writer(file) \n",
    "    write.writerows(data) "
   ]
  },
  {
   "cell_type": "code",
   "execution_count": 34,
   "metadata": {},
   "outputs": [
    {
     "data": {
      "text/plain": [
       "No.                                         int64\n",
       "Flag                                      float64\n",
       "Name                                       object\n",
       "Kanji                                      object\n",
       "Population(as of October 2016[update])     object\n",
       "Density(/km2)                              object\n",
       "Area(km2)                                 float64\n",
       "Major districts                            object\n",
       "dtype: object"
      ]
     },
     "execution_count": 34,
     "metadata": {},
     "output_type": "execute_result"
    }
   ],
   "source": [
    "# read CSV JapanData.csv\n",
    "import pandas as pd\n",
    "df = pd.read_csv(\"Japan_WardTokyo.csv\")\n",
    "#df = pd.DataFrame(Japan_data) we could also get this information like this \n",
    "df.dtypes"
   ]
  },
  {
   "cell_type": "code",
   "execution_count": 35,
   "metadata": {},
   "outputs": [
    {
     "data": {
      "text/html": [
       "<div>\n",
       "<style scoped>\n",
       "    .dataframe tbody tr th:only-of-type {\n",
       "        vertical-align: middle;\n",
       "    }\n",
       "\n",
       "    .dataframe tbody tr th {\n",
       "        vertical-align: top;\n",
       "    }\n",
       "\n",
       "    .dataframe thead th {\n",
       "        text-align: right;\n",
       "    }\n",
       "</style>\n",
       "<table border=\"1\" class=\"dataframe\">\n",
       "  <thead>\n",
       "    <tr style=\"text-align: right;\">\n",
       "      <th></th>\n",
       "      <th>No.</th>\n",
       "      <th>Flag</th>\n",
       "      <th>Name</th>\n",
       "      <th>Kanji</th>\n",
       "      <th>Population(as of October 2016[update])</th>\n",
       "      <th>Density(/km2)</th>\n",
       "      <th>Area(km2)</th>\n",
       "      <th>Major districts</th>\n",
       "    </tr>\n",
       "  </thead>\n",
       "  <tbody>\n",
       "    <tr>\n",
       "      <th>0</th>\n",
       "      <td>1</td>\n",
       "      <td>NaN</td>\n",
       "      <td>Chiyoda</td>\n",
       "      <td>千代田区</td>\n",
       "      <td>0059,441</td>\n",
       "      <td>05,100</td>\n",
       "      <td>11.66</td>\n",
       "      <td>Nagatachō, Kasumigaseki, Ōtemachi, Marunouchi,...</td>\n",
       "    </tr>\n",
       "    <tr>\n",
       "      <th>1</th>\n",
       "      <td>2</td>\n",
       "      <td>NaN</td>\n",
       "      <td>Chūō</td>\n",
       "      <td>中央区</td>\n",
       "      <td>0147,620</td>\n",
       "      <td>14,460</td>\n",
       "      <td>10.21</td>\n",
       "      <td>Nihonbashi, Kayabachō, Ginza, Tsukiji, Hatchōb...</td>\n",
       "    </tr>\n",
       "    <tr>\n",
       "      <th>2</th>\n",
       "      <td>3</td>\n",
       "      <td>NaN</td>\n",
       "      <td>Minato</td>\n",
       "      <td>港区</td>\n",
       "      <td>0248,071</td>\n",
       "      <td>12,180</td>\n",
       "      <td>20.37</td>\n",
       "      <td>Odaiba, Shinbashi, Hamamatsuchō, Mita, Roppong...</td>\n",
       "    </tr>\n",
       "    <tr>\n",
       "      <th>3</th>\n",
       "      <td>4</td>\n",
       "      <td>NaN</td>\n",
       "      <td>Shinjuku</td>\n",
       "      <td>新宿区</td>\n",
       "      <td>0339,211</td>\n",
       "      <td>18,620</td>\n",
       "      <td>18.22</td>\n",
       "      <td>Shinjuku, Takadanobaba, Ōkubo, Kagurazaka, Ich...</td>\n",
       "    </tr>\n",
       "    <tr>\n",
       "      <th>4</th>\n",
       "      <td>5</td>\n",
       "      <td>NaN</td>\n",
       "      <td>Bunkyō</td>\n",
       "      <td>文京区</td>\n",
       "      <td>0223,389</td>\n",
       "      <td>19,790</td>\n",
       "      <td>11.29</td>\n",
       "      <td>Hongō, Yayoi, Hakusan</td>\n",
       "    </tr>\n",
       "  </tbody>\n",
       "</table>\n",
       "</div>"
      ],
      "text/plain": [
       "   No.  Flag      Name Kanji Population(as of October 2016[update])  \\\n",
       "0    1   NaN   Chiyoda  千代田区                               0059,441   \n",
       "1    2   NaN      Chūō   中央区                               0147,620   \n",
       "2    3   NaN    Minato    港区                               0248,071   \n",
       "3    4   NaN  Shinjuku   新宿区                               0339,211   \n",
       "4    5   NaN    Bunkyō   文京区                               0223,389   \n",
       "\n",
       "  Density(/km2)  Area(km2)                                    Major districts  \n",
       "0        05,100      11.66  Nagatachō, Kasumigaseki, Ōtemachi, Marunouchi,...  \n",
       "1        14,460      10.21  Nihonbashi, Kayabachō, Ginza, Tsukiji, Hatchōb...  \n",
       "2        12,180      20.37  Odaiba, Shinbashi, Hamamatsuchō, Mita, Roppong...  \n",
       "3        18,620      18.22  Shinjuku, Takadanobaba, Ōkubo, Kagurazaka, Ich...  \n",
       "4        19,790      11.29                              Hongō, Yayoi, Hakusan  "
      ]
     },
     "execution_count": 35,
     "metadata": {},
     "output_type": "execute_result"
    }
   ],
   "source": [
    "df.head()"
   ]
  },
  {
   "cell_type": "code",
   "execution_count": 36,
   "metadata": {},
   "outputs": [
    {
     "name": "stdout",
     "output_type": "stream",
     "text": [
      "Renaming fields Done\n"
     ]
    }
   ],
   "source": [
    "#rename columns\n",
    "df.rename({'Major districts':'MajorDistricts'},errors=\"raise\", axis=1, inplace=True)\n",
    "df.rename({'Population(as of October\\xa02016[update])':'Poblacion'},errors=\"raise\",axis=1,inplace=True)\n",
    "print('Renaming fields Done')\n"
   ]
  },
  {
   "cell_type": "code",
   "execution_count": 37,
   "metadata": {},
   "outputs": [
    {
     "name": "stdout",
     "output_type": "stream",
     "text": [
      "Dropping field Done\n"
     ]
    }
   ],
   "source": [
    "# droping unnecesary fields\n",
    "df.drop(columns=['Flag'],inplace=True)\n",
    "print('Dropping field Done')"
   ]
  },
  {
   "cell_type": "code",
   "execution_count": 38,
   "metadata": {},
   "outputs": [
    {
     "data": {
      "text/plain": [
       "No.                 int64\n",
       "Name               object\n",
       "Kanji              object\n",
       "Poblacion          object\n",
       "Density(/km2)      object\n",
       "Area(km2)         float64\n",
       "MajorDistricts     object\n",
       "dtype: object"
      ]
     },
     "execution_count": 38,
     "metadata": {},
     "output_type": "execute_result"
    }
   ],
   "source": [
    "# check for data types\n",
    "df.dtypes  "
   ]
  },
  {
   "cell_type": "code",
   "execution_count": 39,
   "metadata": {},
   "outputs": [],
   "source": [
    "# change Polacion and Density(/km2) from object to floaot\n",
    "df['Poblacion'] = df['Poblacion'].str.replace(',', '').astype(float)\n",
    "df['Density(/km2)'] = df['Density(/km2)'].str.replace(',', '').astype(float)"
   ]
  },
  {
   "cell_type": "code",
   "execution_count": 40,
   "metadata": {},
   "outputs": [
    {
     "data": {
      "text/html": [
       "<div>\n",
       "<style scoped>\n",
       "    .dataframe tbody tr th:only-of-type {\n",
       "        vertical-align: middle;\n",
       "    }\n",
       "\n",
       "    .dataframe tbody tr th {\n",
       "        vertical-align: top;\n",
       "    }\n",
       "\n",
       "    .dataframe thead th {\n",
       "        text-align: right;\n",
       "    }\n",
       "</style>\n",
       "<table border=\"1\" class=\"dataframe\">\n",
       "  <thead>\n",
       "    <tr style=\"text-align: right;\">\n",
       "      <th></th>\n",
       "      <th>No.</th>\n",
       "      <th>Name</th>\n",
       "      <th>Kanji</th>\n",
       "      <th>Poblacion</th>\n",
       "      <th>Density(/km2)</th>\n",
       "      <th>Area(km2)</th>\n",
       "      <th>MajorDistricts</th>\n",
       "    </tr>\n",
       "  </thead>\n",
       "  <tbody>\n",
       "    <tr>\n",
       "      <th>0</th>\n",
       "      <td>1</td>\n",
       "      <td>Chiyoda</td>\n",
       "      <td>千代田区</td>\n",
       "      <td>59441.0</td>\n",
       "      <td>5100.0</td>\n",
       "      <td>11.66</td>\n",
       "      <td>Nagatachō, Kasumigaseki, Ōtemachi, Marunouchi,...</td>\n",
       "    </tr>\n",
       "    <tr>\n",
       "      <th>1</th>\n",
       "      <td>2</td>\n",
       "      <td>Chūō</td>\n",
       "      <td>中央区</td>\n",
       "      <td>147620.0</td>\n",
       "      <td>14460.0</td>\n",
       "      <td>10.21</td>\n",
       "      <td>Nihonbashi, Kayabachō, Ginza, Tsukiji, Hatchōb...</td>\n",
       "    </tr>\n",
       "    <tr>\n",
       "      <th>2</th>\n",
       "      <td>3</td>\n",
       "      <td>Minato</td>\n",
       "      <td>港区</td>\n",
       "      <td>248071.0</td>\n",
       "      <td>12180.0</td>\n",
       "      <td>20.37</td>\n",
       "      <td>Odaiba, Shinbashi, Hamamatsuchō, Mita, Roppong...</td>\n",
       "    </tr>\n",
       "    <tr>\n",
       "      <th>3</th>\n",
       "      <td>4</td>\n",
       "      <td>Shinjuku</td>\n",
       "      <td>新宿区</td>\n",
       "      <td>339211.0</td>\n",
       "      <td>18620.0</td>\n",
       "      <td>18.22</td>\n",
       "      <td>Shinjuku, Takadanobaba, Ōkubo, Kagurazaka, Ich...</td>\n",
       "    </tr>\n",
       "    <tr>\n",
       "      <th>4</th>\n",
       "      <td>5</td>\n",
       "      <td>Bunkyō</td>\n",
       "      <td>文京区</td>\n",
       "      <td>223389.0</td>\n",
       "      <td>19790.0</td>\n",
       "      <td>11.29</td>\n",
       "      <td>Hongō, Yayoi, Hakusan</td>\n",
       "    </tr>\n",
       "  </tbody>\n",
       "</table>\n",
       "</div>"
      ],
      "text/plain": [
       "   No.      Name Kanji  Poblacion  Density(/km2)  Area(km2)  \\\n",
       "0    1   Chiyoda  千代田区    59441.0         5100.0      11.66   \n",
       "1    2      Chūō   中央区   147620.0        14460.0      10.21   \n",
       "2    3    Minato    港区   248071.0        12180.0      20.37   \n",
       "3    4  Shinjuku   新宿区   339211.0        18620.0      18.22   \n",
       "4    5    Bunkyō   文京区   223389.0        19790.0      11.29   \n",
       "\n",
       "                                      MajorDistricts  \n",
       "0  Nagatachō, Kasumigaseki, Ōtemachi, Marunouchi,...  \n",
       "1  Nihonbashi, Kayabachō, Ginza, Tsukiji, Hatchōb...  \n",
       "2  Odaiba, Shinbashi, Hamamatsuchō, Mita, Roppong...  \n",
       "3  Shinjuku, Takadanobaba, Ōkubo, Kagurazaka, Ich...  \n",
       "4                              Hongō, Yayoi, Hakusan  "
      ]
     },
     "execution_count": 40,
     "metadata": {},
     "output_type": "execute_result"
    }
   ],
   "source": [
    "df.head()"
   ]
  },
  {
   "cell_type": "code",
   "execution_count": 41,
   "metadata": {},
   "outputs": [],
   "source": [
    "df.to_csv(r'Japan_WardTokyo.csv', index = False)"
   ]
  }
 ],
 "metadata": {
  "kernelspec": {
   "display_name": "Python",
   "language": "python",
   "name": "conda-env-python-py"
  },
  "language_info": {
   "codemirror_mode": {
    "name": "ipython",
    "version": 3
   },
   "file_extension": ".py",
   "mimetype": "text/x-python",
   "name": "python",
   "nbconvert_exporter": "python",
   "pygments_lexer": "ipython3",
   "version": "3.6.11"
  }
 },
 "nbformat": 4,
 "nbformat_minor": 4
}
